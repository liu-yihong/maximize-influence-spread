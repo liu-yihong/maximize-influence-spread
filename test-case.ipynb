{
 "cells": [
  {
   "cell_type": "code",
   "execution_count": 40,
   "metadata": {
    "collapsed": true
   },
   "outputs": [
    {
     "name": "stdout",
     "output_type": "stream",
     "text": [
      "The autoreload extension is already loaded. To reload it, use:\n",
      "  %reload_ext autoreload\n"
     ]
    }
   ],
   "source": [
    "%load_ext autoreload\n",
    "%autoreload 2\n",
    "\n",
    "from InfluenceDiffusion import *\n",
    "import pandas as pd"
   ]
  },
  {
   "cell_type": "code",
   "execution_count": 2,
   "outputs": [],
   "source": [
    "# read email data from http://networkrepository.com/email-dnc.php\n",
    "adj_list = pd.read_csv('data/email-dnc.edges',\n",
    "                       skiprows=0,\n",
    "                       delimiter=',',\n",
    "                       names=['FROM', 'TO', 'TIME'])\n",
    "# this is a multigraph\n",
    "multigraph = nx.from_pandas_edgelist(adj_list[['FROM', 'TO']],\n",
    "                                            source='FROM',\n",
    "                                            target='TO',\n",
    "                                            create_using=nx.MultiGraph)\n",
    "# this is the directed graph, derived from the multigraph\n",
    "directed_graph = nx.DiGraph()\n",
    "\n",
    "for edge in set(multigraph.edges()):\n",
    "    # get statistics\n",
    "    u, v = edge[0], edge[1]\n",
    "    num_edges_u_v = multigraph.number_of_edges(u, v)\n",
    "    degree_u = multigraph.degree(u)\n",
    "    degree_v = multigraph.degree(v)\n",
    "    # construct graphs for influence models\n",
    "    directed_graph.add_edge(u, v, c=num_edges_u_v, weight=num_edges_u_v / degree_v, du=degree_u, dv=degree_v)\n",
    "    directed_graph.add_edge(v, u, c=num_edges_u_v, weight=num_edges_u_v / degree_u, du=degree_v, dv=degree_u)"
   ],
   "metadata": {
    "collapsed": false,
    "pycharm": {
     "name": "#%%\n"
    }
   }
  },
  {
   "cell_type": "code",
   "execution_count": 3,
   "outputs": [
    {
     "name": "stdout",
     "output_type": "stream",
     "text": [
      "MODE: linear threshold - EARLY TERMINATION\n"
     ]
    },
    {
     "data": {
      "text/plain": "102"
     },
     "execution_count": 3,
     "metadata": {},
     "output_type": "execute_result"
    }
   ],
   "source": [
    "result = begin_diffusion(initial_set={1},\n",
    "                underlying_graph=directed_graph,\n",
    "                max_iter=100,\n",
    "                mode='linear threshold')\n",
    "len(result)"
   ],
   "metadata": {
    "collapsed": false,
    "pycharm": {
     "name": "#%%\n"
    }
   }
  },
  {
   "cell_type": "code",
   "execution_count": 4,
   "outputs": [
    {
     "name": "stdout",
     "output_type": "stream",
     "text": [
      "MODE: independent cascade - EARLY TERMINATION\n"
     ]
    },
    {
     "data": {
      "text/plain": "177"
     },
     "execution_count": 4,
     "metadata": {},
     "output_type": "execute_result"
    }
   ],
   "source": [
    "result = begin_diffusion(initial_set={1},\n",
    "                underlying_graph=directed_graph,\n",
    "                max_iter=100,\n",
    "                mode='independent cascade',\n",
    "                         p_cascade=0.01)\n",
    "len(result)"
   ],
   "metadata": {
    "collapsed": false,
    "pycharm": {
     "name": "#%%\n"
    }
   }
  },
  {
   "cell_type": "code",
   "execution_count": 5,
   "outputs": [
    {
     "name": "stdout",
     "output_type": "stream",
     "text": [
      "MODE: weighted cascade - EARLY TERMINATION\n"
     ]
    },
    {
     "data": {
      "text/plain": "90"
     },
     "execution_count": 5,
     "metadata": {},
     "output_type": "execute_result"
    }
   ],
   "source": [
    "\n",
    "result = begin_diffusion(initial_set={1},\n",
    "                underlying_graph=directed_graph,\n",
    "                max_iter=100,\n",
    "                mode='weighted cascade')\n",
    "len(result)"
   ],
   "metadata": {
    "collapsed": false,
    "pycharm": {
     "name": "#%%\n"
    }
   }
  },
  {
   "cell_type": "code",
   "execution_count": 55,
   "outputs": [],
   "source": [
    "greedy_initial_set = hill_climbing_greedy(directed_graph, k=5, max_iter=300, p_cascade=0.01, mode='linear threshold')"
   ],
   "metadata": {
    "collapsed": false,
    "pycharm": {
     "name": "#%%\n"
    }
   }
  }
 ],
 "metadata": {
  "kernelspec": {
   "display_name": "Python 3",
   "language": "python",
   "name": "python3"
  },
  "language_info": {
   "codemirror_mode": {
    "name": "ipython",
    "version": 2
   },
   "file_extension": ".py",
   "mimetype": "text/x-python",
   "name": "python",
   "nbconvert_exporter": "python",
   "pygments_lexer": "ipython2",
   "version": "2.7.6"
  }
 },
 "nbformat": 4,
 "nbformat_minor": 0
}