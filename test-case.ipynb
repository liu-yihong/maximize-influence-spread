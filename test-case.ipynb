{
 "cells": [
  {
   "cell_type": "markdown",
   "source": [
    "# Experiments on \"Maximizing the Spread of Influence through a Social Network\""
   ],
   "metadata": {
    "collapsed": false
   }
  },
  {
   "cell_type": "code",
   "execution_count": 3,
   "metadata": {
    "collapsed": true
   },
   "outputs": [
    {
     "name": "stdout",
     "output_type": "stream",
     "text": [
      "The autoreload extension is already loaded. To reload it, use:\n",
      "  %reload_ext autoreload\n"
     ]
    }
   ],
   "source": [
    "import numpy as np\n",
    "%load_ext autoreload\n",
    "%autoreload 2\n",
    "%matplotlib inline\n",
    "\n",
    "from InfluenceDiffusion import *\n",
    "import matplotlib.pyplot as plt"
   ]
  },
  {
   "cell_type": "markdown",
   "source": [
    "## Reading Data\n",
    "\n",
    "Here we import the data from [2016 Democratic National Committee email leak](http://networkrepository.com/email-dnc.php),\n",
    " an email communication network. Nodes in the network correspond to persons in the\n",
    " dataset. A directed edge in the dataset denotes that a person has sent an email to\n",
    "  another person. The nature of emailing results in a directed multigraph.\n",
    "  Here we ignore the time variable."
   ],
   "metadata": {
    "collapsed": false
   }
  },
  {
   "cell_type": "code",
   "execution_count": 4,
   "outputs": [],
   "source": [
    "multigraph, directed_graph = read_data()"
   ],
   "metadata": {
    "collapsed": false,
    "pycharm": {
     "name": "#%%\n"
    }
   }
  },
  {
   "cell_type": "markdown",
   "source": [
    "## Three Diffusion Models\n",
    "\n",
    "In this paper, we have three types of influence diffusion models: linear threshold model (node-specific threshold),\n",
    "independent cascade model (dynamic cascade), and \"weighted\" cascade model.\n",
    "\n",
    "By specifying the argument _mode_ in function *begin_diffusion*, we can choose the\n",
    "influence model to experiment. Here let node 1 be the initial size-1 set to target.\n",
    "And the uniform probability in independent cascade model for edges is set to 0.01."
   ],
   "metadata": {
    "collapsed": false
   }
  },
  {
   "cell_type": "code",
   "execution_count": 4,
   "outputs": [
    {
     "name": "stdout",
     "output_type": "stream",
     "text": [
      "MODE: linear threshold - EARLY TERMINATION\n",
      "# final active nodes:  98\n"
     ]
    }
   ],
   "source": [
    "result = begin_diffusion(initial_set={1},\n",
    "                underlying_graph=directed_graph,\n",
    "                max_iter=100,\n",
    "                mode='linear threshold')\n",
    "print(\"# final active nodes: \", result[1])"
   ],
   "metadata": {
    "collapsed": false,
    "pycharm": {
     "name": "#%%\n"
    }
   }
  },
  {
   "cell_type": "code",
   "execution_count": 5,
   "outputs": [
    {
     "name": "stdout",
     "output_type": "stream",
     "text": [
      "MODE: independent cascade - EARLY TERMINATION\n",
      "# final active nodes:  184\n"
     ]
    }
   ],
   "source": [
    "result = begin_diffusion(initial_set={1},\n",
    "                underlying_graph=directed_graph,\n",
    "                max_iter=100,\n",
    "                mode='independent cascade',\n",
    "                         p_cascade=0.01)\n",
    "print(\"# final active nodes: \", result[1])"
   ],
   "metadata": {
    "collapsed": false,
    "pycharm": {
     "name": "#%%\n"
    }
   }
  },
  {
   "cell_type": "code",
   "execution_count": 6,
   "outputs": [
    {
     "name": "stdout",
     "output_type": "stream",
     "text": [
      "MODE: weighted cascade - EARLY TERMINATION\n",
      "# final active nodes:  84\n"
     ]
    }
   ],
   "source": [
    "result = begin_diffusion(initial_set={1},\n",
    "                underlying_graph=directed_graph,\n",
    "                max_iter=100,\n",
    "                mode='weighted cascade')\n",
    "print(\"# final active nodes: \", result[1])"
   ],
   "metadata": {
    "collapsed": false,
    "pycharm": {
     "name": "#%%\n"
    }
   }
  },
  {
   "cell_type": "markdown",
   "source": [
    "## Hill-climbing Greedy & 3 Baselines\n",
    "\n",
    "In this paper, the hill-climbing greedy algorithm is proposed to generate a nearly-optimal\n",
    " size-k target set. And 3 baselines are compared for performance: random draw, degree-based\n",
    " heuristic, and closeness-centrality-based heuristic. Here we experiment with size 5.\n",
    " For the hill-climbing greedy, we set the underlying diffusion model as the linear threshold model."
   ],
   "metadata": {
    "collapsed": false
   }
  },
  {
   "cell_type": "code",
   "execution_count": 5,
   "outputs": [
    {
     "name": "stdout",
     "output_type": "stream",
     "text": [
      "{1898, 1035, 173, 1530, 1853}\n",
      "{1669, 1258, 1839, 1874, 1144}\n",
      "{453, 1669, 1159, 1906, 1874}\n",
      "{707, 1253, 1670, 1159, 319}\n"
     ]
    }
   ],
   "source": [
    "target_set1 = random_draw(multigraph, k=5)\n",
    "target_set2 = degree_heuristic(multigraph, k=5)\n",
    "target_set3 = centrality_heuristic(multigraph, k=5)\n",
    "target_set4 = greedy_initial_set = hill_climbing_greedy(directed_graph, k=5, max_iter=300, p_cascade=0.01, mode='linear threshold')\n",
    "\n",
    "print(target_set1)\n",
    "print(target_set2)\n",
    "print(target_set3)\n",
    "print(target_set4)"
   ],
   "metadata": {
    "collapsed": false,
    "pycharm": {
     "name": "#%%\n"
    }
   }
  },
  {
   "cell_type": "markdown",
   "source": [
    "## Experiments on Algorithms Performance\n",
    "\n",
    "We simulate the process 10000 times for each targeted set,\n",
    "re-choosing thresholds or edge outcomes pseudo-randomly from\n",
    "[0, 1] every time. We iterate the size of initial target set from 1 to 30."
   ],
   "metadata": {
    "collapsed": false,
    "pycharm": {
     "name": "#%% md\n"
    }
   }
  },
  {
   "cell_type": "markdown",
   "source": [
    "### Results on Linear Threshold Model"
   ],
   "metadata": {
    "collapsed": false
   }
  },
  {
   "cell_type": "code",
   "execution_count": 8,
   "outputs": [],
   "source": [
    "temp_list1 = []\n",
    "temp_list2 = []\n",
    "temp_list3 = []\n",
    "temp_list4 = []\n",
    "for k in range(100):\n",
    "    target_set1 = random_draw(multigraph, k=k+1)\n",
    "    target_set2 = degree_heuristic(multigraph, k=k+1)\n",
    "    target_set3 = centrality_heuristic(multigraph, k=k+1)\n",
    "    temp_list12 = []\n",
    "    temp_list22 = []\n",
    "    temp_list32 = []\n",
    "    temp_list42 = []\n",
    "    for l in range(500):\n",
    "        _, final_size1 = begin_diffusion(initial_set=target_set1,\n",
    "                                     underlying_graph=directed_graph,\n",
    "                                     max_iter=500,\n",
    "                                     mode='linear threshold')\n",
    "        _, final_size2 = begin_diffusion(initial_set=target_set2,\n",
    "                                     underlying_graph=directed_graph,\n",
    "                                     max_iter=500,\n",
    "                                     mode='linear threshold')\n",
    "        _, final_size3 = begin_diffusion(initial_set=target_set3,\n",
    "                                     underlying_graph=directed_graph,\n",
    "                                     max_iter=500,\n",
    "                                     mode='linear threshold')\n",
    "        temp_list12.append(final_size1)\n",
    "        temp_list22.append(final_size2)\n",
    "        temp_list32.append(final_size3)\n",
    "    temp_list1.append(temp_list12)\n",
    "    temp_list2.append(temp_list22)\n",
    "    temp_list3.append(temp_list32)"
   ],
   "metadata": {
    "collapsed": false,
    "pycharm": {
     "name": "#%%\n"
    }
   }
  },
  {
   "cell_type": "code",
   "execution_count": 9,
   "outputs": [],
   "source": [
    "S1 = np.array(temp_list1)\n",
    "S2 = np.array(temp_list2)\n",
    "S3 = np.array(temp_list3)\n",
    "\n",
    "mu1 = S1.mean(axis=1)\n",
    "sigma1 = S1.std(axis=1)\n",
    "\n",
    "mu2 = S2.mean(axis=1)\n",
    "sigma2 = S2.std(axis=1)\n",
    "\n",
    "mu3 = S3.mean(axis=1)\n",
    "sigma3 = S3.std(axis=1)"
   ],
   "metadata": {
    "collapsed": false,
    "pycharm": {
     "name": "#%%\n"
    }
   }
  },
  {
   "cell_type": "code",
   "execution_count": 10,
   "outputs": [
    {
     "data": {
      "text/plain": "<Figure size 432x288 with 1 Axes>",
      "image/png": "[encoded data removed]"
     },
     "metadata": {
      "needs_background": "light"
     },
     "output_type": "display_data"
    }
   ],
   "source": [
    "fig, ax = plt.subplots(1)\n",
    "\n",
    "ax.plot(np.arange(100), mu1, lw=2, label='random draw', color='blue')\n",
    "ax.fill_between(np.arange(100), mu1+sigma1, mu1-sigma1, facecolor='blue', alpha=0.5)\n",
    "\n",
    "ax.plot(np.arange(100), mu2, lw=2, label='degree heuristic', color='yellow')\n",
    "ax.fill_between(np.arange(100), mu2+sigma2, mu2-sigma2, facecolor='yellow', alpha=0.5)\n",
    "\n",
    "ax.plot(np.arange(100), mu3, lw=2, label='centrality heuristic', color='pink')\n",
    "ax.fill_between(np.arange(100), mu3+sigma3, mu3-sigma3, facecolor='pink', alpha=0.5)\n",
    "\n",
    "ax.set_title(r'Final Size: empirical $\\mu$ and $\\pm \\sigma$ interval')\n",
    "ax.legend(loc='upper left')\n",
    "ax.set_xlabel('Size of Initial Target Set')\n",
    "ax.set_ylabel('Size of Final Active Size')\n",
    "ax.grid()"
   ],
   "metadata": {
    "collapsed": false,
    "pycharm": {
     "name": "#%%\n"
    }
   }
  },
  {
   "cell_type": "markdown",
   "source": [
    "### Results on Independent Cascade Model"
   ],
   "metadata": {
    "collapsed": false
   }
  },
  {
   "cell_type": "markdown",
   "source": [
    "### Results on Weighted Cascade Model"
   ],
   "metadata": {
    "collapsed": false,
    "pycharm": {
     "name": "#%% md\n"
    }
   }
  }
 ],
 "metadata": {
  "kernelspec": {
   "display_name": "Python 3",
   "language": "python",
   "name": "python3"
  },
  "language_info": {
   "codemirror_mode": {
    "name": "ipython",
    "version": 2
   },
   "file_extension": ".py",
   "mimetype": "text/x-python",
   "name": "python",
   "nbconvert_exporter": "python",
   "pygments_lexer": "ipython2",
   "version": "2.7.6"
  }
 },
 "nbformat": 4,
 "nbformat_minor": 0
}