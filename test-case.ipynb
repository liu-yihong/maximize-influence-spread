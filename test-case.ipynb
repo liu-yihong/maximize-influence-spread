{
 "cells": [
  {
   "cell_type": "markdown",
   "metadata": {},
   "source": [
    "# Experiments on \"Maximizing the Spread of Influence through a Social Network\""
   ]
  },
  {
   "cell_type": "code",
   "execution_count": 3,
   "metadata": {
    "collapsed": true
   },
   "outputs": [
    {
     "name": "stdout",
     "output_type": "stream",
     "text": [
      "The autoreload extension is already loaded. To reload it, use:\n",
      "  %reload_ext autoreload\n"
     ]
    }
   ],
   "source": [
    "import numpy as np\n",
    "%load_ext autoreload\n",
    "%autoreload 2\n",
    "%matplotlib inline\n",
    "\n",
    "from InfluenceDiffusion import *"
   ]
  },
  {
   "cell_type": "markdown",
   "metadata": {},
   "source": [
    "## Reading Data\n",
    "\n",
    "Here we import the data from [2016 Democratic National Committee email leak](http://networkrepository.com/email-dnc.php),\n",
    " an email communication network. Nodes in the network correspond to persons in the\n",
    " dataset. A directed edge in the dataset denotes that a person has sent an email to\n",
    "  another person. The nature of emailing results in a directed multigraph.\n",
    "  Here we ignore the time variable."
   ]
  },
  {
   "cell_type": "code",
   "execution_count": 4,
   "metadata": {
    "pycharm": {
     "name": "#%%\n"
    }
   },
   "outputs": [],
   "source": [
    "multigraph, directed_graph = read_data()"
   ]
  },
  {
   "cell_type": "markdown",
   "metadata": {},
   "source": [
    "## Three Diffusion Models\n",
    "\n",
    "In this paper, we have three types of influence diffusion models: linear threshold model (node-specific threshold),\n",
    "independent cascade model (dynamic cascade), and \"weighted\" cascade model.\n",
    "\n",
    "By specifying the argument _mode_ in function *begin_diffusion*, we can choose the\n",
    "influence model to experiment. Here let node 1 be the initial size-1 set to target.\n",
    "And the uniform probability in independent cascade model for edges is set to 0.01."
   ]
  },
  {
   "cell_type": "code",
   "execution_count": 4,
   "metadata": {
    "pycharm": {
     "name": "#%%\n"
    }
   },
   "outputs": [
    {
     "name": "stdout",
     "output_type": "stream",
     "text": [
      "MODE: linear threshold - EARLY TERMINATION\n",
      "# final active nodes:  98\n"
     ]
    }
   ],
   "source": [
    "result = begin_diffusion(initial_set={1},\n",
    "                underlying_graph=directed_graph,\n",
    "                max_iter=100,\n",
    "                mode='linear threshold')\n",
    "print(\"# final active nodes: \", result[1])"
   ]
  },
  {
   "cell_type": "code",
   "execution_count": 5,
   "metadata": {
    "pycharm": {
     "name": "#%%\n"
    }
   },
   "outputs": [
    {
     "name": "stdout",
     "output_type": "stream",
     "text": [
      "MODE: independent cascade - EARLY TERMINATION\n",
      "# final active nodes:  184\n"
     ]
    }
   ],
   "source": [
    "result = begin_diffusion(initial_set={1},\n",
    "                underlying_graph=directed_graph,\n",
    "                max_iter=100,\n",
    "                mode='independent cascade',\n",
    "                         p_cascade=0.01)\n",
    "print(\"# final active nodes: \", result[1])"
   ]
  },
  {
   "cell_type": "code",
   "execution_count": 6,
   "metadata": {
    "pycharm": {
     "name": "#%%\n"
    }
   },
   "outputs": [
    {
     "name": "stdout",
     "output_type": "stream",
     "text": [
      "MODE: weighted cascade - EARLY TERMINATION\n",
      "# final active nodes:  84\n"
     ]
    }
   ],
   "source": [
    "result = begin_diffusion(initial_set={1},\n",
    "                underlying_graph=directed_graph,\n",
    "                max_iter=100,\n",
    "                mode='weighted cascade')\n",
    "print(\"# final active nodes: \", result[1])"
   ]
  },
  {
   "cell_type": "markdown",
   "metadata": {},
   "source": [
    "## Hill-climbing Greedy & 3 Baselines\n",
    "\n",
    "In this paper, the hill-climbing greedy algorithm is proposed to generate a nearly-optimal\n",
    " size-k target set. And 3 baselines are compared for performance: random draw, degree-based\n",
    " heuristic, and closeness-centrality-based heuristic. Here we experiment with size 5.\n",
    " For the hill-climbing greedy, we set the underlying diffusion model as the linear threshold model."
   ]
  },
  {
   "cell_type": "code",
   "execution_count": 5,
   "metadata": {
    "pycharm": {
     "name": "#%%\n"
    }
   },
   "outputs": [
    {
     "name": "stdout",
     "output_type": "stream",
     "text": [
      "{1898, 1035, 173, 1530, 1853}\n",
      "{1669, 1258, 1839, 1874, 1144}\n",
      "{453, 1669, 1159, 1906, 1874}\n",
      "{707, 1253, 1670, 1159, 319}\n"
     ]
    }
   ],
   "source": [
    "target_set1 = random_draw(multigraph, k=5)\n",
    "target_set2 = degree_heuristic(multigraph, k=5)\n",
    "target_set3 = centrality_heuristic(multigraph, k=5)\n",
    "target_set4 = greedy_initial_set = hill_climbing_greedy(directed_graph, k=5, max_iter=300, p_cascade=0.01, mode='linear threshold')\n",
    "\n",
    "print(target_set1)\n",
    "print(target_set2)\n",
    "print(target_set3)\n",
    "print(target_set4)"
   ]
  },
  {
   "cell_type": "markdown",
   "metadata": {
    "pycharm": {
     "name": "#%% md\n"
    }
   },
   "source": [
    "## Experiments on Algorithms Performance\n",
    "\n",
    "We simulate the process 10000 times for each targeted set,\n",
    "re-choosing thresholds or edge outcomes pseudo-randomly from\n",
    "[0, 1] every time. We iterate the size of initial target set from 1 to 30."
   ]
  },
  {
   "cell_type": "markdown",
   "metadata": {},
   "source": [
    "### Results on Linear Threshold Model"
   ]
  },
  {
   "cell_type": "code",
   "execution_count": 12,
   "metadata": {
    "pycharm": {
     "name": "#%%\n"
    }
   },
   "outputs": [],
   "source": [
    "experiments_and_plot(multigraph, directed_graph,\n",
    "                     max_k=10, num_exp=500, max_iter=500,\n",
    "                     mode='linear threshold', p_cascade=0.01)"
   ]
  },
  {
   "cell_type": "markdown",
   "metadata": {},
   "source": [
    "### Results on Independent Cascade Model"
   ]
  },
  {
   "cell_type": "markdown",
   "metadata": {
    "pycharm": {
     "name": "#%% md\n"
    }
   },
   "source": [
    "### Results on Weighted Cascade Model"
   ]
  },
  {
   "cell_type": "code",
   "execution_count": null,
   "outputs": [],
   "source": [],
   "metadata": {
    "collapsed": false,
    "pycharm": {
     "name": "#%%\n"
    }
   }
  }
 ],
 "metadata": {
  "kernelspec": {
   "display_name": "Python 3",
   "language": "python",
   "name": "python3"
  },
  "language_info": {
   "codemirror_mode": {
    "name": "ipython",
    "version": 3
   },
   "file_extension": ".py",
   "mimetype": "text/x-python",
   "name": "python",
   "nbconvert_exporter": "python",
   "pygments_lexer": "ipython3",
   "version": "3.8.5"
  }
 },
 "nbformat": 4,
 "nbformat_minor": 1
}