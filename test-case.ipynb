{
 "cells": [
  {
   "cell_type": "markdown",
   "source": [
    "# Experiments on \"Maximizing the Spread of Influence through a Social Network\""
   ],
   "metadata": {
    "collapsed": false
   }
  },
  {
   "cell_type": "code",
   "execution_count": 1,
   "metadata": {
    "collapsed": true
   },
   "outputs": [],
   "source": [
    "%load_ext autoreload\n",
    "%autoreload 2\n",
    "\n",
    "from InfluenceDiffusion import *"
   ]
  },
  {
   "cell_type": "markdown",
   "source": [
    "## Reading Data\n",
    "\n",
    "Here we import the data from [2016 Democratic National Committee email leak](http://networkrepository.com/email-dnc.php),\n",
    " an email communication network. Nodes in the network correspond to persons in the\n",
    " dataset. A directed edge in the dataset denotes that a person has sent an email to\n",
    "  another person. The nature of emailing results in a directed multigraph.\n",
    "  Here we ignore the time variable."
   ],
   "metadata": {
    "collapsed": false
   }
  },
  {
   "cell_type": "code",
   "execution_count": 2,
   "outputs": [],
   "source": [
    "multigraph, directed_graph = read_data()"
   ],
   "metadata": {
    "collapsed": false,
    "pycharm": {
     "name": "#%%\n"
    }
   }
  },
  {
   "cell_type": "markdown",
   "source": [
    "## Three Diffusion Models"
   ],
   "metadata": {
    "collapsed": false
   }
  },
  {
   "cell_type": "code",
   "execution_count": 3,
   "outputs": [
    {
     "name": "stdout",
     "output_type": "stream",
     "text": [
      "MODE: linear threshold - EARLY TERMINATION\n"
     ]
    },
    {
     "data": {
      "text/plain": "102"
     },
     "execution_count": 3,
     "metadata": {},
     "output_type": "execute_result"
    }
   ],
   "source": [
    "result = begin_diffusion(initial_set={1},\n",
    "                underlying_graph=directed_graph,\n",
    "                max_iter=100,\n",
    "                mode='linear threshold')\n",
    "len(result)"
   ],
   "metadata": {
    "collapsed": false,
    "pycharm": {
     "name": "#%%\n"
    }
   }
  },
  {
   "cell_type": "code",
   "execution_count": 4,
   "outputs": [
    {
     "name": "stdout",
     "output_type": "stream",
     "text": [
      "MODE: independent cascade - EARLY TERMINATION\n"
     ]
    },
    {
     "data": {
      "text/plain": "177"
     },
     "execution_count": 4,
     "metadata": {},
     "output_type": "execute_result"
    }
   ],
   "source": [
    "result = begin_diffusion(initial_set={1},\n",
    "                underlying_graph=directed_graph,\n",
    "                max_iter=100,\n",
    "                mode='independent cascade',\n",
    "                         p_cascade=0.01)\n",
    "len(result)"
   ],
   "metadata": {
    "collapsed": false,
    "pycharm": {
     "name": "#%%\n"
    }
   }
  },
  {
   "cell_type": "code",
   "execution_count": 5,
   "outputs": [
    {
     "name": "stdout",
     "output_type": "stream",
     "text": [
      "MODE: weighted cascade - EARLY TERMINATION\n"
     ]
    },
    {
     "data": {
      "text/plain": "90"
     },
     "execution_count": 5,
     "metadata": {},
     "output_type": "execute_result"
    }
   ],
   "source": [
    "\n",
    "result = begin_diffusion(initial_set={1},\n",
    "                underlying_graph=directed_graph,\n",
    "                max_iter=100,\n",
    "                mode='weighted cascade')\n",
    "len(result)"
   ],
   "metadata": {
    "collapsed": false,
    "pycharm": {
     "name": "#%%\n"
    }
   }
  },
  {
   "cell_type": "code",
   "execution_count": 55,
   "outputs": [],
   "source": [
    "greedy_initial_set = hill_climbing_greedy(directed_graph, k=5, max_iter=300, p_cascade=0.01, mode='linear threshold')\n"
   ],
   "metadata": {
    "collapsed": false,
    "pycharm": {
     "name": "#%%\n"
    }
   }
  }
 ],
 "metadata": {
  "kernelspec": {
   "display_name": "Python 3",
   "language": "python",
   "name": "python3"
  },
  "language_info": {
   "codemirror_mode": {
    "name": "ipython",
    "version": 2
   },
   "file_extension": ".py",
   "mimetype": "text/x-python",
   "name": "python",
   "nbconvert_exporter": "python",
   "pygments_lexer": "ipython2",
   "version": "2.7.6"
  }
 },
 "nbformat": 4,
 "nbformat_minor": 0
}